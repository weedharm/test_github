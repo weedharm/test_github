{
 "cells": [
  {
   "cell_type": "code",
   "execution_count": 13,
   "metadata": {},
   "outputs": [],
   "source": [
    "# đọc file seq.out chứa các label NE, lưu nhãn trong biến label_NER\n",
    "file_label = open(\"fb4/NER/seq.out\", \"r\")\n",
    "label_NER = file_label.readlines()\n",
    "file_label.close()\n",
    "label_NER = [x.strip().replace('\\n', '').split() for x in label_NER]\n"
   ]
  },
  {
   "cell_type": "code",
   "execution_count": 14,
   "metadata": {},
   "outputs": [],
   "source": [
    "# đọc file sentence.txt chứa các câu, lưu các câu trong biến sentence\n",
    "file_sentence = open(\"fb4/NER/sentence.txt\", \"r\", encoding=\"utf-8\")\n",
    "sentence = file_sentence.readlines()\n",
    "file_sentence.close()\n",
    "sentence = [x.strip().replace('\\n', '') for x in sentence]\n",
    "sentence = [x.split() for x in sentence]"
   ]
  },
  {
   "cell_type": "code",
   "execution_count": 15,
   "metadata": {},
   "outputs": [
    {
     "name": "stdout",
     "output_type": "stream",
     "text": [
      "[8, 9, 12, 8, 7, 9, 11, 10, 8, 9, 10, 9, 7, 6, 10, 9, 10, 9, 8, 5, 6, 6, 4, 5, 9, 6, 8, 5, 6, 6, 10, 5, 5, 4, 10, 7, 5, 8, 9, 15, 8, 8, 8, 5, 8, 6, 4, 9, 8, 6, 12, 17, 8]\n",
      "[8, 9, 12, 8, 7, 9, 11, 10, 8, 9, 10, 9, 7, 6, 10, 9, 10, 9, 8, 5, 6, 6, 4, 5, 9, 6, 8, 5, 6, 6, 10, 5, 5, 4, 10, 7, 5, 8, 9, 15, 8, 8, 8, 5, 8, 6, 4, 9, 8, 6, 12, 17, 8]\n"
     ]
    }
   ],
   "source": [
    "a = []\n",
    "for i in label_NER:\n",
    "    a.append(len(i))\n",
    "print(a)\n",
    "b= []\n",
    "for i in sentence:\n",
    "    b.append(len(i))\n",
    "print(b)\n",
    "\n",
    "\n"
   ]
  },
  {
   "cell_type": "code",
   "execution_count": 16,
   "metadata": {},
   "outputs": [],
   "source": [
    "for i in range(len(label_NER)):\n",
    "    if a[i] != b[i]:\n",
    "        print(i)\n",
    "        print(sentence[i])\n",
    "        print(label_NER[i])"
   ]
  },
  {
   "cell_type": "code",
   "execution_count": null,
   "metadata": {},
   "outputs": [],
   "source": []
  }
 ],
 "metadata": {
  "kernelspec": {
   "display_name": "Python 3",
   "language": "python",
   "name": "python3"
  },
  "language_info": {
   "codemirror_mode": {
    "name": "ipython",
    "version": 3
   },
   "file_extension": ".py",
   "mimetype": "text/x-python",
   "name": "python",
   "nbconvert_exporter": "python",
   "pygments_lexer": "ipython3",
   "version": "3.9.4 (tags/v3.9.4:1f2e308, Apr  4 2021, 13:27:16) [MSC v.1928 64 bit (AMD64)]"
  },
  "orig_nbformat": 4,
  "vscode": {
   "interpreter": {
    "hash": "ccac1887d9c0236378d7c946c278d3ae2cfbbd1bc989a73d6e68aeb0055755a3"
   }
  }
 },
 "nbformat": 4,
 "nbformat_minor": 2
}
